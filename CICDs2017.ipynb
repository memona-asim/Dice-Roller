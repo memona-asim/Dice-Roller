{
  "nbformat": 4,
  "nbformat_minor": 0,
  "metadata": {
    "colab": {
      "provenance": [],
      "authorship_tag": "ABX9TyP+FffHGdwMeGSIVaKVuiuH",
      "include_colab_link": true
    },
    "kernelspec": {
      "name": "python3",
      "display_name": "Python 3"
    },
    "language_info": {
      "name": "python"
    }
  },
  "cells": [
    {
      "cell_type": "markdown",
      "metadata": {
        "id": "view-in-github",
        "colab_type": "text"
      },
      "source": [
        "<a href=\"https://colab.research.google.com/github/memona-asim/Dice-Roller/blob/main/CICDs2017.ipynb\" target=\"_parent\"><img src=\"https://colab.research.google.com/assets/colab-badge.svg\" alt=\"Open In Colab\"/></a>"
      ]
    },
    {
      "cell_type": "code",
      "execution_count": 7,
      "metadata": {
        "colab": {
          "base_uri": "https://localhost:8080/"
        },
        "id": "xM1U5f-OVi-4",
        "outputId": "3334ecaf-ecdc-4908-ce1f-9968fbf3d34b"
      },
      "outputs": [
        {
          "output_type": "stream",
          "name": "stdout",
          "text": [
            "File Summary:\n",
            "Friday-WorkingHours-Afternoon-DDos.pcap_ISCX.csv: 97718 rows of benign traffic\n",
            "Wednesday-workingHours.pcap_ISCX.csv: 440031 rows of benign traffic\n",
            "Thursday-WorkingHours-Afternoon-Infilteration.pcap_ISCX.csv: 288566 rows of benign traffic\n",
            "Thursday-WorkingHours-Morning-WebAttacks.pcap_ISCX.csv: 168186 rows of benign traffic\n",
            "Tuesday-WorkingHours.pcap_ISCX.csv: 432074 rows of benign traffic\n",
            "Friday-WorkingHours-Morning.pcap_ISCX.csv: 189067 rows of benign traffic\n",
            "Monday-WorkingHours.pcap_ISCX.csv: 529918 rows of benign traffic\n",
            "Friday-WorkingHours-Afternoon-PortScan.pcap_ISCX.csv: 127537 rows of benign traffic\n",
            "\n",
            "Total number of rows in the benign traffic dataset: 2273097\n"
          ]
        }
      ],
      "source": [
        "import pandas as pd\n",
        "import os\n",
        "\n",
        "# Path to the folder containing the CSV files\n",
        "file_path = '/content/dataset'  # Adjust this to the correct path\n",
        "\n",
        "# List all CSV files in the directory\n",
        "csv_files = [f for f in os.listdir(file_path) if f.endswith('.csv')]\n",
        "\n",
        "# Initialize an empty DataFrame to store all benign traffic\n",
        "benign_traffic = pd.DataFrame()\n",
        "\n",
        "# Track the number of rows processed per file\n",
        "file_summary = {}\n",
        "\n",
        "# Loop through each file, read it, filter out benign traffic and append it\n",
        "for file in csv_files:\n",
        "    # Load the dataset\n",
        "    full_path = os.path.join(file_path, file)\n",
        "    df = pd.read_csv(full_path)\n",
        "\n",
        "    # Filter out benign traffic (assuming the 'Label' column indicates benign traffic as 'BENIGN')\n",
        "    benign_data = df[df[' Label'] == 'BENIGN']  # Update this if your benign traffic label is different\n",
        "\n",
        "    # Append to the benign_traffic DataFrame\n",
        "    benign_traffic = pd.concat([benign_traffic, benign_data], ignore_index=True)\n",
        "\n",
        "    # Save the number of rows processed for this file\n",
        "    file_summary[file] = len(benign_data)\n",
        "\n",
        "# Save the benign traffic to a new CSV file\n",
        "benign_traffic.to_csv('/content/benign_traffic.csv', index=False)\n",
        "\n",
        "# Print file summary\n",
        "print(\"File Summary:\")\n",
        "for file, rows in file_summary.items():\n",
        "    print(f\"{file}: {rows} rows of benign traffic\")\n",
        "\n",
        "# Print the total number of rows in the benign traffic dataset\n",
        "print(f\"\\nTotal number of rows in the benign traffic dataset: {len(benign_traffic)}\")\n"
      ]
    },
    {
      "cell_type": "code",
      "source": [
        "# Drop rows with missing values\n",
        "df = df.dropna()\n",
        "\n",
        "# Convert non-numeric features to numeric if necessary\n",
        "df = pd.get_dummies(df, drop_first=True)\n"
      ],
      "metadata": {
        "id": "-FjXU5U7h6oS"
      },
      "execution_count": 4,
      "outputs": []
    },
    {
      "cell_type": "code",
      "source": [
        "import pandas as pd\n",
        "\n",
        "# Load the benign traffic dataset\n",
        "file_path = \"benign_traffic.csv\"  # Path to your file\n",
        "benign_data = pd.read_csv(file_path)\n",
        "\n",
        "# Display basic information\n",
        "print(benign_data.info())\n",
        "print(benign_data.head())\n"
      ],
      "metadata": {
        "colab": {
          "base_uri": "https://localhost:8080/"
        },
        "id": "G8iQ3wR1AbtZ",
        "outputId": "157af053-4161-461f-f2ae-55f74243b9b9"
      },
      "execution_count": 5,
      "outputs": [
        {
          "output_type": "stream",
          "name": "stdout",
          "text": [
            "<class 'pandas.core.frame.DataFrame'>\n",
            "RangeIndex: 2273097 entries, 0 to 2273096\n",
            "Data columns (total 79 columns):\n",
            " #   Column                        Dtype  \n",
            "---  ------                        -----  \n",
            " 0    Destination Port             int64  \n",
            " 1    Flow Duration                int64  \n",
            " 2    Total Fwd Packets            int64  \n",
            " 3    Total Backward Packets       int64  \n",
            " 4   Total Length of Fwd Packets   int64  \n",
            " 5    Total Length of Bwd Packets  int64  \n",
            " 6    Fwd Packet Length Max        int64  \n",
            " 7    Fwd Packet Length Min        int64  \n",
            " 8    Fwd Packet Length Mean       float64\n",
            " 9    Fwd Packet Length Std        float64\n",
            " 10  Bwd Packet Length Max         int64  \n",
            " 11   Bwd Packet Length Min        int64  \n",
            " 12   Bwd Packet Length Mean       float64\n",
            " 13   Bwd Packet Length Std        float64\n",
            " 14  Flow Bytes/s                  float64\n",
            " 15   Flow Packets/s               float64\n",
            " 16   Flow IAT Mean                float64\n",
            " 17   Flow IAT Std                 float64\n",
            " 18   Flow IAT Max                 int64  \n",
            " 19   Flow IAT Min                 int64  \n",
            " 20  Fwd IAT Total                 int64  \n",
            " 21   Fwd IAT Mean                 float64\n",
            " 22   Fwd IAT Std                  float64\n",
            " 23   Fwd IAT Max                  int64  \n",
            " 24   Fwd IAT Min                  int64  \n",
            " 25  Bwd IAT Total                 int64  \n",
            " 26   Bwd IAT Mean                 float64\n",
            " 27   Bwd IAT Std                  float64\n",
            " 28   Bwd IAT Max                  int64  \n",
            " 29   Bwd IAT Min                  int64  \n",
            " 30  Fwd PSH Flags                 int64  \n",
            " 31   Bwd PSH Flags                int64  \n",
            " 32   Fwd URG Flags                int64  \n",
            " 33   Bwd URG Flags                int64  \n",
            " 34   Fwd Header Length            int64  \n",
            " 35   Bwd Header Length            int64  \n",
            " 36  Fwd Packets/s                 float64\n",
            " 37   Bwd Packets/s                float64\n",
            " 38   Min Packet Length            int64  \n",
            " 39   Max Packet Length            int64  \n",
            " 40   Packet Length Mean           float64\n",
            " 41   Packet Length Std            float64\n",
            " 42   Packet Length Variance       float64\n",
            " 43  FIN Flag Count                int64  \n",
            " 44   SYN Flag Count               int64  \n",
            " 45   RST Flag Count               int64  \n",
            " 46   PSH Flag Count               int64  \n",
            " 47   ACK Flag Count               int64  \n",
            " 48   URG Flag Count               int64  \n",
            " 49   CWE Flag Count               int64  \n",
            " 50   ECE Flag Count               int64  \n",
            " 51   Down/Up Ratio                int64  \n",
            " 52   Average Packet Size          float64\n",
            " 53   Avg Fwd Segment Size         float64\n",
            " 54   Avg Bwd Segment Size         float64\n",
            " 55   Fwd Header Length.1          int64  \n",
            " 56  Fwd Avg Bytes/Bulk            int64  \n",
            " 57   Fwd Avg Packets/Bulk         int64  \n",
            " 58   Fwd Avg Bulk Rate            int64  \n",
            " 59   Bwd Avg Bytes/Bulk           int64  \n",
            " 60   Bwd Avg Packets/Bulk         int64  \n",
            " 61  Bwd Avg Bulk Rate             int64  \n",
            " 62  Subflow Fwd Packets           int64  \n",
            " 63   Subflow Fwd Bytes            int64  \n",
            " 64   Subflow Bwd Packets          int64  \n",
            " 65   Subflow Bwd Bytes            int64  \n",
            " 66  Init_Win_bytes_forward        int64  \n",
            " 67   Init_Win_bytes_backward      int64  \n",
            " 68   act_data_pkt_fwd             int64  \n",
            " 69   min_seg_size_forward         int64  \n",
            " 70  Active Mean                   float64\n",
            " 71   Active Std                   float64\n",
            " 72   Active Max                   int64  \n",
            " 73   Active Min                   int64  \n",
            " 74  Idle Mean                     float64\n",
            " 75   Idle Std                     float64\n",
            " 76   Idle Max                     int64  \n",
            " 77   Idle Min                     int64  \n",
            " 78   Label                        object \n",
            "dtypes: float64(24), int64(54), object(1)\n",
            "memory usage: 1.3+ GB\n",
            "None\n",
            "    Destination Port   Flow Duration   Total Fwd Packets  \\\n",
            "0              54865               3                   2   \n",
            "1              55054             109                   1   \n",
            "2              55055              52                   1   \n",
            "3              46236              34                   1   \n",
            "4              54863               3                   2   \n",
            "\n",
            "    Total Backward Packets  Total Length of Fwd Packets  \\\n",
            "0                        0                           12   \n",
            "1                        1                            6   \n",
            "2                        1                            6   \n",
            "3                        1                            6   \n",
            "4                        0                           12   \n",
            "\n",
            "    Total Length of Bwd Packets   Fwd Packet Length Max  \\\n",
            "0                             0                       6   \n",
            "1                             6                       6   \n",
            "2                             6                       6   \n",
            "3                             6                       6   \n",
            "4                             0                       6   \n",
            "\n",
            "    Fwd Packet Length Min   Fwd Packet Length Mean   Fwd Packet Length Std  \\\n",
            "0                       6                      6.0                     0.0   \n",
            "1                       6                      6.0                     0.0   \n",
            "2                       6                      6.0                     0.0   \n",
            "3                       6                      6.0                     0.0   \n",
            "4                       6                      6.0                     0.0   \n",
            "\n",
            "   ...   min_seg_size_forward  Active Mean   Active Std   Active Max  \\\n",
            "0  ...                     20          0.0          0.0            0   \n",
            "1  ...                     20          0.0          0.0            0   \n",
            "2  ...                     20          0.0          0.0            0   \n",
            "3  ...                     20          0.0          0.0            0   \n",
            "4  ...                     20          0.0          0.0            0   \n",
            "\n",
            "    Active Min  Idle Mean   Idle Std   Idle Max   Idle Min   Label  \n",
            "0            0        0.0        0.0          0          0  BENIGN  \n",
            "1            0        0.0        0.0          0          0  BENIGN  \n",
            "2            0        0.0        0.0          0          0  BENIGN  \n",
            "3            0        0.0        0.0          0          0  BENIGN  \n",
            "4            0        0.0        0.0          0          0  BENIGN  \n",
            "\n",
            "[5 rows x 79 columns]\n"
          ]
        }
      ]
    },
    {
      "cell_type": "code",
      "source": [
        "# Print the columns of the dataset to check\n",
        "print(benign_data.columns)\n",
        "\n",
        "# Adjust column names (if needed)\n",
        "benign_data.columns = benign_data.columns.str.strip()  # Clean column names\n",
        "\n",
        "# Define the exact 23 relevant features you mentioned\n",
        "relevant_features = [\n",
        "    \"Destination Port\",\n",
        "    \"Flow Duration\",\n",
        "    \"Total Fwd Packets\",\n",
        "    \"Total Backward Packets\",\n",
        "    \"Total Length of Fwd Packets\",\n",
        "    \"Total Length of Bwd Packets\",\n",
        "    \"Flow Bytes/s\",\n",
        "    \"Flow Packets/s\",\n",
        "    \"Fwd Packets/s\",\n",
        "    \"Bwd Packets/s\",\n",
        "    \"Fwd IAT Mean\",\n",
        "    \"Bwd IAT Mean\",\n",
        "    \"SYN Flag Count\",\n",
        "    \"URG Flag Count\",\n",
        "    \"FIN Flag Count\",\n",
        "    \"Fwd IAT Std\",\n",
        "    \"Bwd IAT Std\",\n",
        "    \"Fwd Packet Length Mean\",\n",
        "    \"Bwd Packet Length Mean\"\n",
        "]\n",
        "\n",
        "\n",
        "# Filter only the available features from the dataset\n",
        "filtered_data = benign_data[relevant_features]\n",
        "\n",
        "# Save the filtered data to a new CSV file\n",
        "filtered_data.to_csv(\"filtered_benign_features.csv\", index=False)\n",
        "\n",
        "print(\"Filtered features saved!\")\n"
      ],
      "metadata": {
        "colab": {
          "base_uri": "https://localhost:8080/"
        },
        "id": "ShwzHnlIB0G0",
        "outputId": "fc0d4c45-5688-40c5-b593-3d8bd4c2f0c8"
      },
      "execution_count": 6,
      "outputs": [
        {
          "output_type": "stream",
          "name": "stdout",
          "text": [
            "Index([' Destination Port', ' Flow Duration', ' Total Fwd Packets',\n",
            "       ' Total Backward Packets', 'Total Length of Fwd Packets',\n",
            "       ' Total Length of Bwd Packets', ' Fwd Packet Length Max',\n",
            "       ' Fwd Packet Length Min', ' Fwd Packet Length Mean',\n",
            "       ' Fwd Packet Length Std', 'Bwd Packet Length Max',\n",
            "       ' Bwd Packet Length Min', ' Bwd Packet Length Mean',\n",
            "       ' Bwd Packet Length Std', 'Flow Bytes/s', ' Flow Packets/s',\n",
            "       ' Flow IAT Mean', ' Flow IAT Std', ' Flow IAT Max', ' Flow IAT Min',\n",
            "       'Fwd IAT Total', ' Fwd IAT Mean', ' Fwd IAT Std', ' Fwd IAT Max',\n",
            "       ' Fwd IAT Min', 'Bwd IAT Total', ' Bwd IAT Mean', ' Bwd IAT Std',\n",
            "       ' Bwd IAT Max', ' Bwd IAT Min', 'Fwd PSH Flags', ' Bwd PSH Flags',\n",
            "       ' Fwd URG Flags', ' Bwd URG Flags', ' Fwd Header Length',\n",
            "       ' Bwd Header Length', 'Fwd Packets/s', ' Bwd Packets/s',\n",
            "       ' Min Packet Length', ' Max Packet Length', ' Packet Length Mean',\n",
            "       ' Packet Length Std', ' Packet Length Variance', 'FIN Flag Count',\n",
            "       ' SYN Flag Count', ' RST Flag Count', ' PSH Flag Count',\n",
            "       ' ACK Flag Count', ' URG Flag Count', ' CWE Flag Count',\n",
            "       ' ECE Flag Count', ' Down/Up Ratio', ' Average Packet Size',\n",
            "       ' Avg Fwd Segment Size', ' Avg Bwd Segment Size',\n",
            "       ' Fwd Header Length.1', 'Fwd Avg Bytes/Bulk', ' Fwd Avg Packets/Bulk',\n",
            "       ' Fwd Avg Bulk Rate', ' Bwd Avg Bytes/Bulk', ' Bwd Avg Packets/Bulk',\n",
            "       'Bwd Avg Bulk Rate', 'Subflow Fwd Packets', ' Subflow Fwd Bytes',\n",
            "       ' Subflow Bwd Packets', ' Subflow Bwd Bytes', 'Init_Win_bytes_forward',\n",
            "       ' Init_Win_bytes_backward', ' act_data_pkt_fwd',\n",
            "       ' min_seg_size_forward', 'Active Mean', ' Active Std', ' Active Max',\n",
            "       ' Active Min', 'Idle Mean', ' Idle Std', ' Idle Max', ' Idle Min',\n",
            "       ' Label'],\n",
            "      dtype='object')\n",
            "Filtered features saved!\n"
          ]
        }
      ]
    },
    {
      "cell_type": "code",
      "source": [
        "import numpy as np\n",
        "\n",
        "# Calculate the correlation matrix\n",
        "correlation_matrix = filtered_data.corr().abs()\n",
        "\n",
        "# Identify upper triangle of correlation matrix (use boolean mask)\n",
        "upper_triangle = np.triu(np.ones(correlation_matrix.shape), k=1)\n",
        "upper_corr_matrix = correlation_matrix * upper_triangle  # Apply mask to get the upper triangle\n",
        "\n",
        "# Find features with correlation greater than 0.9\n",
        "to_drop = [column for column in upper_corr_matrix.columns if any(upper_corr_matrix[column] > 0.9)]\n",
        "\n",
        "# Drop the highly correlated features\n",
        "reduced_data = filtered_data.drop(columns=to_drop)\n",
        "\n",
        "print(f\"Removed features: {to_drop}\")\n",
        "print(f\"Remaining features: {reduced_data.columns.tolist()}\")\n"
      ],
      "metadata": {
        "colab": {
          "base_uri": "https://localhost:8080/"
        },
        "id": "nv3FwAGeCLDW",
        "outputId": "b08fe4ad-8e5e-46d7-8bb8-77106425610c"
      },
      "execution_count": 8,
      "outputs": [
        {
          "output_type": "stream",
          "name": "stdout",
          "text": [
            "Removed features: ['Total Backward Packets', 'Total Length of Bwd Packets', 'Fwd Packets/s', 'Bwd IAT Mean']\n",
            "Remaining features: ['Destination Port', 'Flow Duration', 'Total Fwd Packets', 'Total Length of Fwd Packets', 'Flow Bytes/s', 'Flow Packets/s', 'Bwd Packets/s', 'Fwd IAT Mean', 'SYN Flag Count', 'URG Flag Count', 'FIN Flag Count', 'Fwd IAT Std', 'Bwd IAT Std', 'Fwd Packet Length Mean', 'Bwd Packet Length Mean']\n"
          ]
        }
      ]
    },
    {
      "cell_type": "code",
      "source": [
        "import numpy as np\n",
        "import pandas as pd\n",
        "from sklearn.preprocessing import StandardScaler\n",
        "\n",
        "# Check for infinite values and replace them with NaN\n",
        "reduced_data.replace([np.inf, -np.inf], np.nan, inplace=True)\n",
        "\n",
        "# Check for missing values (NaN)\n",
        "if reduced_data.isnull().values.any():\n",
        "    # Replace NaN with the mean of each column (you could also use median or other strategies)\n",
        "    reduced_data.fillna(reduced_data.mean(), inplace=True)\n",
        "\n",
        "# Initialize the scaler\n",
        "scaler = StandardScaler()\n",
        "\n",
        "# Scale the features\n",
        "scaled_data = scaler.fit_transform(reduced_data)\n",
        "\n",
        "# Convert scaled data back to DataFrame\n",
        "scaled_data = pd.DataFrame(scaled_data, columns=reduced_data.columns)\n",
        "\n",
        "# Save the scaled data\n",
        "scaled_data.to_csv(\"scaled_benign_features.csv\", index=False)\n",
        "\n",
        "print(\"Features scaled and saved!\")\n"
      ],
      "metadata": {
        "id": "An9wUNttF4wO"
      },
      "execution_count": null,
      "outputs": []
    },
    {
      "cell_type": "code",
      "source": [
        "from sklearn.model_selection import train_test_split\n",
        "from sklearn.preprocessing import StandardScaler\n",
        "\n",
        "# Assuming 'scaled_data' is the preprocessed dataset\n",
        "X = scaled_data.drop(columns=[\"Label\"])  # Features\n",
        "y = scaled_data[\"Label\"]  # Labels (Benign traffic, labeled as 1)\n",
        "\n",
        "# Split the data into training and testing sets (80% train, 20% test)\n",
        "X_train, X_test, y_train, y_test = train_test_split(X, y, test_size=0.2, random_state=42)\n",
        "\n",
        "# Check the shape of the splits\n",
        "print(f\"Training data shape: {X_train.shape}\")\n",
        "print(f\"Test data shape: {X_test.shape}\")\n",
        "\n"
      ],
      "metadata": {
        "colab": {
          "base_uri": "https://localhost:8080/"
        },
        "id": "v2x5HxmWHGze",
        "outputId": "0b5be0db-bf3b-4c99-de2f-ca0550eff21e"
      },
      "execution_count": 21,
      "outputs": [
        {
          "output_type": "stream",
          "name": "stdout",
          "text": [
            "Training data shape: (1818477, 15)\n",
            "Test data shape: (454620, 15)\n"
          ]
        }
      ]
    },
    {
      "cell_type": "code",
      "source": [
        "from sklearn.ensemble import IsolationForest\n",
        "\n",
        "# Train the model on the benign training data (X_train)\n",
        "model = IsolationForest(contamination=0.1, random_state=42)\n",
        "model.fit(X_train)\n",
        "\n",
        "# Make predictions on the test data (X_test)\n",
        "y_pred = model.predict(X_test)\n"
      ],
      "metadata": {
        "id": "pdojuTfcJC7f"
      },
      "execution_count": 22,
      "outputs": []
    },
    {
      "cell_type": "code",
      "source": [
        "# Convert the predictions (1 = normal, 0 = anomaly)\n",
        "y_pred = [0 if pred == -1 else 1 for pred in y_pred]\n"
      ],
      "metadata": {
        "id": "EWHozuOHK8LT"
      },
      "execution_count": 23,
      "outputs": []
    },
    {
      "cell_type": "code",
      "source": [
        "from sklearn.metrics import accuracy_score, classification_report, confusion_matrix\n",
        "\n",
        "# Evaluate accuracy\n",
        "accuracy = accuracy_score(y_test, y_pred)\n",
        "print(f\"Accuracy: {accuracy:.4f}\")\n",
        "\n",
        "# Classification report (precision, recall, f1-score)\n",
        "print(\"\\nClassification Report:\")\n",
        "print(classification_report(y_test, y_pred))\n",
        "\n",
        "# Confusion matrix\n",
        "print(\"\\nConfusion Matrix:\")\n",
        "print(confusion_matrix(y_test, y_pred))\n"
      ],
      "metadata": {
        "colab": {
          "base_uri": "https://localhost:8080/"
        },
        "id": "VFai6nimK_PL",
        "outputId": "e34c8e07-457e-4878-e630-f05f5bfbfd9f"
      },
      "execution_count": 34,
      "outputs": [
        {
          "output_type": "stream",
          "name": "stdout",
          "text": [
            "Accuracy: 0.9010\n",
            "\n",
            "Classification Report:\n"
          ]
        },
        {
          "output_type": "stream",
          "name": "stderr",
          "text": [
            "/usr/local/lib/python3.10/dist-packages/sklearn/metrics/_classification.py:1531: UndefinedMetricWarning: Recall is ill-defined and being set to 0.0 in labels with no true samples. Use `zero_division` parameter to control this behavior.\n",
            "  _warn_prf(average, modifier, f\"{metric.capitalize()} is\", len(result))\n",
            "/usr/local/lib/python3.10/dist-packages/sklearn/metrics/_classification.py:1531: UndefinedMetricWarning: Recall is ill-defined and being set to 0.0 in labels with no true samples. Use `zero_division` parameter to control this behavior.\n",
            "  _warn_prf(average, modifier, f\"{metric.capitalize()} is\", len(result))\n",
            "/usr/local/lib/python3.10/dist-packages/sklearn/metrics/_classification.py:1531: UndefinedMetricWarning: Recall is ill-defined and being set to 0.0 in labels with no true samples. Use `zero_division` parameter to control this behavior.\n",
            "  _warn_prf(average, modifier, f\"{metric.capitalize()} is\", len(result))\n"
          ]
        },
        {
          "output_type": "stream",
          "name": "stdout",
          "text": [
            "              precision    recall  f1-score   support\n",
            "\n",
            "           0       0.00      0.00      0.00         0\n",
            "           1       1.00      0.90      0.95    454620\n",
            "\n",
            "    accuracy                           0.90    454620\n",
            "   macro avg       0.50      0.45      0.47    454620\n",
            "weighted avg       1.00      0.90      0.95    454620\n",
            "\n",
            "\n",
            "Confusion Matrix:\n",
            "[[     0      0]\n",
            " [ 44987 409633]]\n"
          ]
        }
      ]
    },
    {
      "cell_type": "code",
      "source": [
        "import numpy as np\n",
        "import pandas as pd\n",
        "\n",
        "# Load the benign traffic dataset\n",
        "file_path = \"/content/dataset/Tuesday-WorkingHours.pcap_ISCX.csv\"  # Path to your file\n",
        "\n",
        "attack_data = pd.read_csv(file_path)\n",
        "\n",
        "# Adjust column names (if needed)\n",
        "attack_data.columns = attack_data.columns.str.strip()  # Clean column names\n",
        "\n",
        "# Define the exact 23 relevant features you mentioned\n",
        "relevant_features = [\n",
        "    \"Destination Port\",\n",
        "    \"Flow Duration\",\n",
        "    \"Total Fwd Packets\",\n",
        "    \"Total Backward Packets\",\n",
        "    \"Total Length of Fwd Packets\",\n",
        "    \"Total Length of Bwd Packets\",\n",
        "    \"Flow Bytes/s\",\n",
        "    \"Flow Packets/s\",\n",
        "    \"Fwd Packets/s\",\n",
        "    \"Bwd Packets/s\",\n",
        "    \"Fwd IAT Mean\",\n",
        "    \"Bwd IAT Mean\",\n",
        "    \"SYN Flag Count\",\n",
        "    \"URG Flag Count\",\n",
        "    \"FIN Flag Count\",\n",
        "    \"Fwd IAT Std\",\n",
        "    \"Bwd IAT Std\",\n",
        "    \"Fwd Packet Length Mean\",\n",
        "    \"Bwd Packet Length Mean\"\n",
        "]\n",
        "\n",
        "\n",
        "# Filter only the available features from the dataset\n",
        "filtered_data = benign_data[relevant_features]\n",
        "\n",
        "# Calculate the correlation matrix\n",
        "correlation_matrix = filtered_data.corr().abs()\n",
        "\n",
        "# Identify upper triangle of correlation matrix (use boolean mask)\n",
        "upper_triangle = np.triu(np.ones(correlation_matrix.shape), k=1)\n",
        "upper_corr_matrix = correlation_matrix * upper_triangle  # Apply mask to get the upper triangle\n",
        "\n",
        "# Find features with correlation greater than 0.9\n",
        "to_drop = [column for column in upper_corr_matrix.columns if any(upper_corr_matrix[column] > 0.9)]\n",
        "\n",
        "# Drop the highly correlated features\n",
        "reduced_data = filtered_data.drop(columns=to_drop)\n",
        "\n",
        "import numpy as np\n",
        "import pandas as pd\n",
        "from sklearn.preprocessing import StandardScaler\n",
        "\n",
        "# Check for infinite values and replace them with NaN\n",
        "reduced_data.replace([np.inf, -np.inf], np.nan, inplace=True)\n",
        "\n",
        "# Check for missing values (NaN)\n",
        "if reduced_data.isnull().values.any():\n",
        "    # Replace NaN with the mean of each column (you could also use median or other strategies)\n",
        "    reduced_data.fillna(reduced_data.mean(), inplace=True)\n",
        "\n",
        "# Initialize the scaler\n",
        "scaler = StandardScaler()\n",
        "\n",
        "# Scale the features\n",
        "scaled_data = scaler.fit_transform(reduced_data)\n",
        "\n",
        "# Convert scaled data back to DataFrame\n",
        "scaled_data = pd.DataFrame(scaled_data, columns=reduced_data.columns)\n"
      ],
      "metadata": {
        "id": "ve3KpHJZObNT"
      },
      "execution_count": 31,
      "outputs": []
    },
    {
      "source": [
        "import matplotlib.pyplot as plt\n",
        "# For example, using the decision function of Isolation Forest\n",
        "anomaly_scores = model.decision_function(scaled_data)\n",
        "\n",
        "# Plot the anomaly scores\n",
        "plt.figure(figsize=(8, 6))\n",
        "plt.hist(anomaly_scores, bins=50, edgecolor='black', alpha=0.7)\n",
        "plt.title('Anomaly Scores Distribution')\n",
        "plt.xlabel('Anomaly Score')\n",
        "plt.ylabel('Count')\n",
        "plt.show()\n",
        "# For example, using the decision function of Isolation Forest\n",
        "anomaly_scores = model.decision_function(scaled_data)\n",
        "\n",
        "# Plot the anomaly scores\n",
        "plt.figure(figsize=(8, 6))\n",
        "plt.hist(anomaly_scores, bins=50, edgecolor='black', alpha=0.7)\n",
        "plt.title('Anomaly Scores Distribution')\n",
        "plt.xlabel('Anomaly Score')\n",
        "plt.ylabel('Count')\n",
        "plt.show()\n"
      ],
      "cell_type": "code",
      "metadata": {
        "colab": {
          "base_uri": "https://localhost:8080/",
          "height": 1000
        },
        "id": "_23pUBzrNUWB",
        "outputId": "1d92792d-1cd4-4671-e534-d832d112e01e"
      },
      "execution_count": 38,
      "outputs": [
        {
          "output_type": "display_data",
          "data": {
            "text/plain": [
              "<Figure size 800x600 with 1 Axes>"
            ],
            "image/png": "[encoded data removed]"
          },
          "metadata": {}
        },
        {
          "output_type": "display_data",
          "data": {
            "text/plain": [
              "<Figure size 800x600 with 1 Axes>"
            ],
            "image/png": "[encoded data removed]"
          },
          "metadata": {}
        }
      ]
    },
    {
      "cell_type": "code",
      "source": [
        "# Predict anomalies using the trained model\n",
        "model = IsolationForest(contamination=0.05, random_state=42)\n",
        "model.fit(X_train)\n",
        "\n",
        "predictions_attack = model.predict(scaled_data)\n",
        "\n",
        "# Convert predictions: -1 for anomaly, 1 for normal\n",
        "predictions_attack = [0 if label == -1 else 1 for label in predictions_attack]\n",
        "\n",
        "# Print a portion of the predictions\n",
        "print(predictions_attack[:20])  # First 1"
      ],
      "metadata": {
        "colab": {
          "base_uri": "https://localhost:8080/"
        },
        "id": "lUMTQ27hVzQf",
        "outputId": "bbee13f8-3f92-4903-d6fd-c9858b58b345"
      },
      "execution_count": 52,
      "outputs": [
        {
          "output_type": "stream",
          "name": "stdout",
          "text": [
            "[1, 1, 1, 1, 1, 1, 1, 1, 1, 1, 1, 0, 1, 1, 1, 1, 1, 1, 1, 1]\n"
          ]
        }
      ]
    },
    {
      "cell_type": "code",
      "source": [
        "print(attack_data.head(20))"
      ],
      "metadata": {
        "colab": {
          "base_uri": "https://localhost:8080/",
          "height": 141
        },
        "id": "LGfs5S_zXj7-",
        "outputId": "8365e435-7b79-48a2-a112-c87fc95766e8"
      },
      "execution_count": 1,
      "outputs": [
        {
          "output_type": "error",
          "ename": "NameError",
          "evalue": "name 'attack_data' is not defined",
          "traceback": [
            "\u001b[0;31m---------------------------------------------------------------------------\u001b[0m",
            "\u001b[0;31mNameError\u001b[0m                                 Traceback (most recent call last)",
            "\u001b[0;32m<ipython-input-1-d59fb26f6f63>\u001b[0m in \u001b[0;36m<cell line: 1>\u001b[0;34m()\u001b[0m\n\u001b[0;32m----> 1\u001b[0;31m \u001b[0mprint\u001b[0m\u001b[0;34m(\u001b[0m\u001b[0mattack_data\u001b[0m\u001b[0;34m.\u001b[0m\u001b[0mhead\u001b[0m\u001b[0;34m(\u001b[0m\u001b[0;36m20\u001b[0m\u001b[0;34m)\u001b[0m\u001b[0;34m)\u001b[0m\u001b[0;34m\u001b[0m\u001b[0;34m\u001b[0m\u001b[0m\n\u001b[0m",
            "\u001b[0;31mNameError\u001b[0m: name 'attack_data' is not defined"
          ]
        }
      ]
    }
  ]
}